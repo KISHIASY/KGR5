{
 "cells": [
  {
   "cell_type": "code",
   "execution_count": 1,
   "metadata": {},
   "outputs": [],
   "source": [
    "import pandas as pd\n",
    "import numpy as np\n",
    "from sklearn.linear_model import LogisticRegression\n",
    "from sklearn.preprocessing import StandardScaler"
   ]
  },
  {
   "cell_type": "code",
   "execution_count": 2,
   "metadata": {},
   "outputs": [],
   "source": [
    "edo = pd.read_csv(r'C:\\KGR5\\edogawa2017+cluster.csv', encoding = 'utf-8')"
   ]
  },
  {
   "cell_type": "code",
   "execution_count": 3,
   "metadata": {},
   "outputs": [
    {
     "data": {
      "text/html": [
       "<div>\n",
       "<style scoped>\n",
       "    .dataframe tbody tr th:only-of-type {\n",
       "        vertical-align: middle;\n",
       "    }\n",
       "\n",
       "    .dataframe tbody tr th {\n",
       "        vertical-align: top;\n",
       "    }\n",
       "\n",
       "    .dataframe thead th {\n",
       "        text-align: right;\n",
       "    }\n",
       "</style>\n",
       "<table border=\"1\" class=\"dataframe\">\n",
       "  <thead>\n",
       "    <tr style=\"text-align: right;\">\n",
       "      <th></th>\n",
       "      <th>Unnamed: 0</th>\n",
       "      <th>地区</th>\n",
       "      <th>自転車盗数</th>\n",
       "      <th>住民数(合計)</th>\n",
       "      <th>住民数(男性)</th>\n",
       "      <th>住民数(女性)</th>\n",
       "      <th>人口密度\r\n",
       "[人/k㎡]</th>\n",
       "      <th>面積[k㎡]</th>\n",
       "      <th>世帯数</th>\n",
       "      <th>クラスタ</th>\n",
       "    </tr>\n",
       "  </thead>\n",
       "  <tbody>\n",
       "    <tr>\n",
       "      <th>0</th>\n",
       "      <td>0</td>\n",
       "      <td>東小松川</td>\n",
       "      <td>32</td>\n",
       "      <td>11383</td>\n",
       "      <td>5814</td>\n",
       "      <td>5569</td>\n",
       "      <td>10045.005290</td>\n",
       "      <td>1.1332</td>\n",
       "      <td>5479</td>\n",
       "      <td>0</td>\n",
       "    </tr>\n",
       "    <tr>\n",
       "      <th>1</th>\n",
       "      <td>1</td>\n",
       "      <td>西小松川町</td>\n",
       "      <td>3</td>\n",
       "      <td>3380</td>\n",
       "      <td>1764</td>\n",
       "      <td>1616</td>\n",
       "      <td>6452.844597</td>\n",
       "      <td>0.5238</td>\n",
       "      <td>1596</td>\n",
       "      <td>0</td>\n",
       "    </tr>\n",
       "    <tr>\n",
       "      <th>2</th>\n",
       "      <td>2</td>\n",
       "      <td>小松川</td>\n",
       "      <td>40</td>\n",
       "      <td>16293</td>\n",
       "      <td>7852</td>\n",
       "      <td>8441</td>\n",
       "      <td>9531.414531</td>\n",
       "      <td>1.7094</td>\n",
       "      <td>7003</td>\n",
       "      <td>0</td>\n",
       "    </tr>\n",
       "    <tr>\n",
       "      <th>3</th>\n",
       "      <td>3</td>\n",
       "      <td>西葛西</td>\n",
       "      <td>172</td>\n",
       "      <td>45320</td>\n",
       "      <td>22636</td>\n",
       "      <td>22684</td>\n",
       "      <td>22787.610620</td>\n",
       "      <td>1.9888</td>\n",
       "      <td>22369</td>\n",
       "      <td>1</td>\n",
       "    </tr>\n",
       "    <tr>\n",
       "      <th>4</th>\n",
       "      <td>4</td>\n",
       "      <td>中葛西</td>\n",
       "      <td>137</td>\n",
       "      <td>38262</td>\n",
       "      <td>20003</td>\n",
       "      <td>18259</td>\n",
       "      <td>23319.112630</td>\n",
       "      <td>1.6408</td>\n",
       "      <td>21215</td>\n",
       "      <td>1</td>\n",
       "    </tr>\n",
       "    <tr>\n",
       "      <th>5</th>\n",
       "      <td>5</td>\n",
       "      <td>北葛西</td>\n",
       "      <td>42</td>\n",
       "      <td>19816</td>\n",
       "      <td>10114</td>\n",
       "      <td>9702</td>\n",
       "      <td>11756.748740</td>\n",
       "      <td>1.6855</td>\n",
       "      <td>8997</td>\n",
       "      <td>0</td>\n",
       "    </tr>\n",
       "    <tr>\n",
       "      <th>6</th>\n",
       "      <td>6</td>\n",
       "      <td>南葛西</td>\n",
       "      <td>113</td>\n",
       "      <td>34164</td>\n",
       "      <td>17521</td>\n",
       "      <td>16643</td>\n",
       "      <td>22611.688400</td>\n",
       "      <td>1.5109</td>\n",
       "      <td>15217</td>\n",
       "      <td>1</td>\n",
       "    </tr>\n",
       "    <tr>\n",
       "      <th>7</th>\n",
       "      <td>7</td>\n",
       "      <td>東葛西</td>\n",
       "      <td>170</td>\n",
       "      <td>42692</td>\n",
       "      <td>22648</td>\n",
       "      <td>20044</td>\n",
       "      <td>15219.964350</td>\n",
       "      <td>2.8050</td>\n",
       "      <td>22872</td>\n",
       "      <td>1</td>\n",
       "    </tr>\n",
       "    <tr>\n",
       "      <th>8</th>\n",
       "      <td>8</td>\n",
       "      <td>新堀</td>\n",
       "      <td>9</td>\n",
       "      <td>4576</td>\n",
       "      <td>2409</td>\n",
       "      <td>2167</td>\n",
       "      <td>13298.459750</td>\n",
       "      <td>0.3441</td>\n",
       "      <td>1897</td>\n",
       "      <td>0</td>\n",
       "    </tr>\n",
       "    <tr>\n",
       "      <th>9</th>\n",
       "      <td>9</td>\n",
       "      <td>清新町</td>\n",
       "      <td>43</td>\n",
       "      <td>14339</td>\n",
       "      <td>6907</td>\n",
       "      <td>7432</td>\n",
       "      <td>14975.456920</td>\n",
       "      <td>0.9575</td>\n",
       "      <td>5988</td>\n",
       "      <td>0</td>\n",
       "    </tr>\n",
       "  </tbody>\n",
       "</table>\n",
       "</div>"
      ],
      "text/plain": [
       "   Unnamed: 0     地区  自転車盗数  住民数(合計)  住民数(男性)  住民数(女性)  人口密度\\r\\n[人/k㎡]  \\\n",
       "0           0   東小松川     32    11383     5814     5569    10045.005290   \n",
       "1           1  西小松川町      3     3380     1764     1616     6452.844597   \n",
       "2           2    小松川     40    16293     7852     8441     9531.414531   \n",
       "3           3    西葛西    172    45320    22636    22684    22787.610620   \n",
       "4           4    中葛西    137    38262    20003    18259    23319.112630   \n",
       "5           5    北葛西     42    19816    10114     9702    11756.748740   \n",
       "6           6    南葛西    113    34164    17521    16643    22611.688400   \n",
       "7           7    東葛西    170    42692    22648    20044    15219.964350   \n",
       "8           8     新堀      9     4576     2409     2167    13298.459750   \n",
       "9           9    清新町     43    14339     6907     7432    14975.456920   \n",
       "\n",
       "   面積[k㎡]    世帯数  クラスタ  \n",
       "0  1.1332   5479     0  \n",
       "1  0.5238   1596     0  \n",
       "2  1.7094   7003     0  \n",
       "3  1.9888  22369     1  \n",
       "4  1.6408  21215     1  \n",
       "5  1.6855   8997     0  \n",
       "6  1.5109  15217     1  \n",
       "7  2.8050  22872     1  \n",
       "8  0.3441   1897     0  \n",
       "9  0.9575   5988     0  "
      ]
     },
     "execution_count": 3,
     "metadata": {},
     "output_type": "execute_result"
    }
   ],
   "source": [
    "edo[0:10]"
   ]
  },
  {
   "cell_type": "code",
   "execution_count": 4,
   "metadata": {},
   "outputs": [],
   "source": [
    "edo_ = edo.drop(edo.columns[[0, 1, 2, 6, 7]], axis=1)"
   ]
  },
  {
   "cell_type": "code",
   "execution_count": 5,
   "metadata": {},
   "outputs": [
    {
     "data": {
      "text/html": [
       "<div>\n",
       "<style scoped>\n",
       "    .dataframe tbody tr th:only-of-type {\n",
       "        vertical-align: middle;\n",
       "    }\n",
       "\n",
       "    .dataframe tbody tr th {\n",
       "        vertical-align: top;\n",
       "    }\n",
       "\n",
       "    .dataframe thead th {\n",
       "        text-align: right;\n",
       "    }\n",
       "</style>\n",
       "<table border=\"1\" class=\"dataframe\">\n",
       "  <thead>\n",
       "    <tr style=\"text-align: right;\">\n",
       "      <th></th>\n",
       "      <th>住民数(合計)</th>\n",
       "      <th>住民数(男性)</th>\n",
       "      <th>住民数(女性)</th>\n",
       "      <th>世帯数</th>\n",
       "      <th>クラスタ</th>\n",
       "    </tr>\n",
       "  </thead>\n",
       "  <tbody>\n",
       "    <tr>\n",
       "      <th>0</th>\n",
       "      <td>11383</td>\n",
       "      <td>5814</td>\n",
       "      <td>5569</td>\n",
       "      <td>5479</td>\n",
       "      <td>0</td>\n",
       "    </tr>\n",
       "    <tr>\n",
       "      <th>1</th>\n",
       "      <td>3380</td>\n",
       "      <td>1764</td>\n",
       "      <td>1616</td>\n",
       "      <td>1596</td>\n",
       "      <td>0</td>\n",
       "    </tr>\n",
       "    <tr>\n",
       "      <th>2</th>\n",
       "      <td>16293</td>\n",
       "      <td>7852</td>\n",
       "      <td>8441</td>\n",
       "      <td>7003</td>\n",
       "      <td>0</td>\n",
       "    </tr>\n",
       "    <tr>\n",
       "      <th>3</th>\n",
       "      <td>45320</td>\n",
       "      <td>22636</td>\n",
       "      <td>22684</td>\n",
       "      <td>22369</td>\n",
       "      <td>1</td>\n",
       "    </tr>\n",
       "    <tr>\n",
       "      <th>4</th>\n",
       "      <td>38262</td>\n",
       "      <td>20003</td>\n",
       "      <td>18259</td>\n",
       "      <td>21215</td>\n",
       "      <td>1</td>\n",
       "    </tr>\n",
       "    <tr>\n",
       "      <th>5</th>\n",
       "      <td>19816</td>\n",
       "      <td>10114</td>\n",
       "      <td>9702</td>\n",
       "      <td>8997</td>\n",
       "      <td>0</td>\n",
       "    </tr>\n",
       "    <tr>\n",
       "      <th>6</th>\n",
       "      <td>34164</td>\n",
       "      <td>17521</td>\n",
       "      <td>16643</td>\n",
       "      <td>15217</td>\n",
       "      <td>1</td>\n",
       "    </tr>\n",
       "    <tr>\n",
       "      <th>7</th>\n",
       "      <td>42692</td>\n",
       "      <td>22648</td>\n",
       "      <td>20044</td>\n",
       "      <td>22872</td>\n",
       "      <td>1</td>\n",
       "    </tr>\n",
       "    <tr>\n",
       "      <th>8</th>\n",
       "      <td>4576</td>\n",
       "      <td>2409</td>\n",
       "      <td>2167</td>\n",
       "      <td>1897</td>\n",
       "      <td>0</td>\n",
       "    </tr>\n",
       "    <tr>\n",
       "      <th>9</th>\n",
       "      <td>14339</td>\n",
       "      <td>6907</td>\n",
       "      <td>7432</td>\n",
       "      <td>5988</td>\n",
       "      <td>0</td>\n",
       "    </tr>\n",
       "  </tbody>\n",
       "</table>\n",
       "</div>"
      ],
      "text/plain": [
       "   住民数(合計)  住民数(男性)  住民数(女性)    世帯数  クラスタ\n",
       "0    11383     5814     5569   5479     0\n",
       "1     3380     1764     1616   1596     0\n",
       "2    16293     7852     8441   7003     0\n",
       "3    45320    22636    22684  22369     1\n",
       "4    38262    20003    18259  21215     1\n",
       "5    19816    10114     9702   8997     0\n",
       "6    34164    17521    16643  15217     1\n",
       "7    42692    22648    20044  22872     1\n",
       "8     4576     2409     2167   1897     0\n",
       "9    14339     6907     7432   5988     0"
      ]
     },
     "execution_count": 5,
     "metadata": {},
     "output_type": "execute_result"
    }
   ],
   "source": [
    "edo_[0:10]"
   ]
  },
  {
   "cell_type": "code",
   "execution_count": 6,
   "metadata": {},
   "outputs": [],
   "source": [
    "edo_np = edo_.values\n",
    "edo_x = edo_np[:,0:3]\n",
    "edo_y = edo_np[:,4]"
   ]
  },
  {
   "cell_type": "code",
   "execution_count": 7,
   "metadata": {},
   "outputs": [
    {
     "data": {
      "text/plain": [
       "array([[11383,  5814,  5569],\n",
       "       [ 3380,  1764,  1616],\n",
       "       [16293,  7852,  8441],\n",
       "       [45320, 22636, 22684],\n",
       "       [38262, 20003, 18259],\n",
       "       [19816, 10114,  9702],\n",
       "       [34164, 17521, 16643],\n",
       "       [42692, 22648, 20044],\n",
       "       [ 4576,  2409,  2167],\n",
       "       [14339,  6907,  7432]], dtype=int64)"
      ]
     },
     "execution_count": 7,
     "metadata": {},
     "output_type": "execute_result"
    }
   ],
   "source": [
    "edo_x[0:10]"
   ]
  },
  {
   "cell_type": "code",
   "execution_count": 8,
   "metadata": {},
   "outputs": [
    {
     "data": {
      "text/plain": [
       "array([0, 0, 0, 1, 1, 0, 1, 1, 0, 0], dtype=int64)"
      ]
     },
     "execution_count": 8,
     "metadata": {},
     "output_type": "execute_result"
    }
   ],
   "source": [
    "edo_y[0:10]"
   ]
  },
  {
   "cell_type": "code",
   "execution_count": 9,
   "metadata": {},
   "outputs": [
    {
     "name": "stderr",
     "output_type": "stream",
     "text": [
      "C:\\Users\\kishi\\Anaconda3\\envs\\edogawa\\lib\\site-packages\\sklearn\\utils\\validation.py:590: DataConversionWarning: Data with input dtype int64 was converted to float64 by StandardScaler.\n",
      "  warnings.warn(msg, DataConversionWarning)\n",
      "C:\\Users\\kishi\\Anaconda3\\envs\\edogawa\\lib\\site-packages\\sklearn\\utils\\validation.py:590: DataConversionWarning: Data with input dtype int64 was converted to float64 by StandardScaler.\n",
      "  warnings.warn(msg, DataConversionWarning)\n"
     ]
    }
   ],
   "source": [
    "sc = StandardScaler()\n",
    "edo_std = sc.fit_transform(edo_x)"
   ]
  },
  {
   "cell_type": "code",
   "execution_count": 10,
   "metadata": {},
   "outputs": [
    {
     "data": {
      "text/plain": [
       "array([[-0.35998832, -0.34732826, -0.37252144],\n",
       "       [-1.03495828, -1.01830118, -1.05055328],\n",
       "       [ 0.0541192 , -0.00968807,  0.12009364],\n",
       "       [ 2.50224528,  2.43961158,  2.56310082],\n",
       "       [ 1.90697626,  2.00339635,  1.80410996],\n",
       "       [ 0.35124767,  0.36506273,  0.33638459],\n",
       "       [ 1.56135251,  1.59219764,  1.52692821],\n",
       "       [ 2.28060077,  2.44159964,  2.11027915],\n",
       "       [-0.9340881 , -0.91144253, -0.95604391],\n",
       "       [-0.11068041, -0.16624841, -0.05297343]])"
      ]
     },
     "execution_count": 10,
     "metadata": {},
     "output_type": "execute_result"
    }
   ],
   "source": [
    "edo_std[0:10]"
   ]
  },
  {
   "cell_type": "code",
   "execution_count": 11,
   "metadata": {},
   "outputs": [
    {
     "name": "stderr",
     "output_type": "stream",
     "text": [
      "C:\\Users\\kishi\\Anaconda3\\envs\\edogawa\\lib\\site-packages\\sklearn\\linear_model\\logistic.py:432: FutureWarning: Default solver will be changed to 'lbfgs' in 0.22. Specify a solver to silence this warning.\n",
      "  FutureWarning)\n"
     ]
    }
   ],
   "source": [
    "clf = LogisticRegression()\n",
    "edo_clf = clf.fit(edo_std, edo_y)"
   ]
  },
  {
   "cell_type": "code",
   "execution_count": 12,
   "metadata": {},
   "outputs": [
    {
     "data": {
      "text/plain": [
       "array([-1.39688541])"
      ]
     },
     "execution_count": 12,
     "metadata": {},
     "output_type": "execute_result"
    }
   ],
   "source": [
    "edo_clf.intercept_"
   ]
  },
  {
   "cell_type": "code",
   "execution_count": 13,
   "metadata": {},
   "outputs": [
    {
     "data": {
      "text/plain": [
       "array([[0.68711821, 0.67399752, 0.69960658]])"
      ]
     },
     "execution_count": 13,
     "metadata": {},
     "output_type": "execute_result"
    }
   ],
   "source": [
    "edo_clf.coef_"
   ]
  },
  {
   "cell_type": "code",
   "execution_count": 14,
   "metadata": {},
   "outputs": [
    {
     "name": "stderr",
     "output_type": "stream",
     "text": [
      "C:\\Users\\kishi\\Anaconda3\\envs\\edogawa\\lib\\site-packages\\sklearn\\utils\\validation.py:590: DataConversionWarning: Data with input dtype int64 was converted to float64 by StandardScaler.\n",
      "  warnings.warn(msg, DataConversionWarning)\n",
      "C:\\Users\\kishi\\Anaconda3\\envs\\edogawa\\lib\\site-packages\\sklearn\\utils\\validation.py:590: DataConversionWarning: Data with input dtype int64 was converted to float64 by StandardScaler.\n",
      "  warnings.warn(msg, DataConversionWarning)\n",
      "C:\\Users\\kishi\\Anaconda3\\envs\\edogawa\\lib\\site-packages\\sklearn\\linear_model\\logistic.py:432: FutureWarning: Default solver will be changed to 'lbfgs' in 0.22. Specify a solver to silence this warning.\n",
      "  FutureWarning)\n"
     ]
    }
   ],
   "source": [
    "edo_np = edo_.values\n",
    "edo_x = edo_np[:,1:4]\n",
    "edo_y = edo_np[:,4]\n",
    "sc = StandardScaler()\n",
    "edo_sc = sc.fit_transform(edo_x)\n",
    "edo_std[0:10]\n",
    "clf = LogisticRegression()\n",
    "edo_clf = clf.fit(edo_std, edo_y)"
   ]
  },
  {
   "cell_type": "code",
   "execution_count": 15,
   "metadata": {},
   "outputs": [
    {
     "data": {
      "text/plain": [
       "array([-1.39688541])"
      ]
     },
     "execution_count": 15,
     "metadata": {},
     "output_type": "execute_result"
    }
   ],
   "source": [
    "edo_clf.intercept_"
   ]
  },
  {
   "cell_type": "code",
   "execution_count": 16,
   "metadata": {},
   "outputs": [
    {
     "data": {
      "text/plain": [
       "array([[0.68711821, 0.67399752, 0.69960658]])"
      ]
     },
     "execution_count": 16,
     "metadata": {},
     "output_type": "execute_result"
    }
   ],
   "source": [
    "edo_clf.coef_"
   ]
  },
  {
   "cell_type": "code",
   "execution_count": null,
   "metadata": {},
   "outputs": [],
   "source": []
  }
 ],
 "metadata": {
  "kernelspec": {
   "display_name": "Python 3",
   "language": "python",
   "name": "python3"
  },
  "language_info": {
   "codemirror_mode": {
    "name": "ipython",
    "version": 3
   },
   "file_extension": ".py",
   "mimetype": "text/x-python",
   "name": "python",
   "nbconvert_exporter": "python",
   "pygments_lexer": "ipython3",
   "version": "3.6.7"
  }
 },
 "nbformat": 4,
 "nbformat_minor": 2
}
