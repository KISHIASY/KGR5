{
 "cells": [
  {
   "cell_type": "code",
   "execution_count": 1,
   "metadata": {},
   "outputs": [],
   "source": [
    "import pandas as pd\n",
    "import numpy as np\n",
    "from sklearn.linear_model import LogisticRegression\n",
    "from sklearn.preprocessing import StandardScaler"
   ]
  },
  {
   "cell_type": "code",
   "execution_count": 2,
   "metadata": {},
   "outputs": [],
   "source": [
    "edo = pd.read_csv(r'C:\\KGR5\\edogawa_kaneda.csv', encoding = 'cp932')"
   ]
  },
  {
   "cell_type": "code",
   "execution_count": 3,
   "metadata": {},
   "outputs": [
    {
     "data": {
      "text/html": [
       "<div>\n",
       "<style scoped>\n",
       "    .dataframe tbody tr th:only-of-type {\n",
       "        vertical-align: middle;\n",
       "    }\n",
       "\n",
       "    .dataframe tbody tr th {\n",
       "        vertical-align: top;\n",
       "    }\n",
       "\n",
       "    .dataframe thead th {\n",
       "        text-align: right;\n",
       "    }\n",
       "</style>\n",
       "<table border=\"1\" class=\"dataframe\">\n",
       "  <thead>\n",
       "    <tr style=\"text-align: right;\">\n",
       "      <th></th>\n",
       "      <th>地区</th>\n",
       "      <th>クラスタ</th>\n",
       "      <th>自転車盗数</th>\n",
       "      <th>大学・短大（NAVITIME）</th>\n",
       "      <th>駅（NAVITIME）</th>\n",
       "      <th>工場</th>\n",
       "      <th>0～4歳</th>\n",
       "      <th>5～9歳</th>\n",
       "      <th>10～14歳</th>\n",
       "      <th>15～19歳</th>\n",
       "      <th>...</th>\n",
       "      <th>民営の借家世帯数</th>\n",
       "      <th>給与住宅世帯数</th>\n",
       "      <th>間借り世帯数</th>\n",
       "      <th>一戸建世帯数</th>\n",
       "      <th>長屋建世帯数</th>\n",
       "      <th>共同住宅世帯数</th>\n",
       "      <th>１・２階建</th>\n",
       "      <th>３～５階建</th>\n",
       "      <th>６～10階建</th>\n",
       "      <th>11階建以上</th>\n",
       "    </tr>\n",
       "  </thead>\n",
       "  <tbody>\n",
       "    <tr>\n",
       "      <th>0</th>\n",
       "      <td>東小松川</td>\n",
       "      <td>0</td>\n",
       "      <td>32</td>\n",
       "      <td>0</td>\n",
       "      <td>0</td>\n",
       "      <td>0</td>\n",
       "      <td>517</td>\n",
       "      <td>498</td>\n",
       "      <td>491</td>\n",
       "      <td>555</td>\n",
       "      <td>...</td>\n",
       "      <td>1959</td>\n",
       "      <td>120</td>\n",
       "      <td>57</td>\n",
       "      <td>2241</td>\n",
       "      <td>44</td>\n",
       "      <td>2617</td>\n",
       "      <td>720</td>\n",
       "      <td>1246</td>\n",
       "      <td>443</td>\n",
       "      <td>208</td>\n",
       "    </tr>\n",
       "    <tr>\n",
       "      <th>1</th>\n",
       "      <td>西小松川町</td>\n",
       "      <td>0</td>\n",
       "      <td>3</td>\n",
       "      <td>0</td>\n",
       "      <td>0</td>\n",
       "      <td>0</td>\n",
       "      <td>102</td>\n",
       "      <td>116</td>\n",
       "      <td>152</td>\n",
       "      <td>199</td>\n",
       "      <td>...</td>\n",
       "      <td>370</td>\n",
       "      <td>23</td>\n",
       "      <td>22</td>\n",
       "      <td>727</td>\n",
       "      <td>14</td>\n",
       "      <td>552</td>\n",
       "      <td>194</td>\n",
       "      <td>190</td>\n",
       "      <td>70</td>\n",
       "      <td>98</td>\n",
       "    </tr>\n",
       "    <tr>\n",
       "      <th>2</th>\n",
       "      <td>小松川</td>\n",
       "      <td>0</td>\n",
       "      <td>40</td>\n",
       "      <td>0</td>\n",
       "      <td>0</td>\n",
       "      <td>0</td>\n",
       "      <td>707</td>\n",
       "      <td>869</td>\n",
       "      <td>907</td>\n",
       "      <td>947</td>\n",
       "      <td>...</td>\n",
       "      <td>485</td>\n",
       "      <td>118</td>\n",
       "      <td>45</td>\n",
       "      <td>328</td>\n",
       "      <td>25</td>\n",
       "      <td>6175</td>\n",
       "      <td>90</td>\n",
       "      <td>449</td>\n",
       "      <td>407</td>\n",
       "      <td>5229</td>\n",
       "    </tr>\n",
       "    <tr>\n",
       "      <th>3</th>\n",
       "      <td>西葛西</td>\n",
       "      <td>1</td>\n",
       "      <td>172</td>\n",
       "      <td>0</td>\n",
       "      <td>1</td>\n",
       "      <td>0</td>\n",
       "      <td>1997</td>\n",
       "      <td>1909</td>\n",
       "      <td>1858</td>\n",
       "      <td>2246</td>\n",
       "      <td>...</td>\n",
       "      <td>9150</td>\n",
       "      <td>773</td>\n",
       "      <td>239</td>\n",
       "      <td>1411</td>\n",
       "      <td>35</td>\n",
       "      <td>18833</td>\n",
       "      <td>1223</td>\n",
       "      <td>3803</td>\n",
       "      <td>6832</td>\n",
       "      <td>6975</td>\n",
       "    </tr>\n",
       "    <tr>\n",
       "      <th>4</th>\n",
       "      <td>中葛西</td>\n",
       "      <td>1</td>\n",
       "      <td>137</td>\n",
       "      <td>0</td>\n",
       "      <td>1</td>\n",
       "      <td>0</td>\n",
       "      <td>1771</td>\n",
       "      <td>1532</td>\n",
       "      <td>1405</td>\n",
       "      <td>1870</td>\n",
       "      <td>...</td>\n",
       "      <td>12701</td>\n",
       "      <td>1125</td>\n",
       "      <td>259</td>\n",
       "      <td>2609</td>\n",
       "      <td>93</td>\n",
       "      <td>17752</td>\n",
       "      <td>3243</td>\n",
       "      <td>6430</td>\n",
       "      <td>5294</td>\n",
       "      <td>2785</td>\n",
       "    </tr>\n",
       "    <tr>\n",
       "      <th>5</th>\n",
       "      <td>北葛西</td>\n",
       "      <td>0</td>\n",
       "      <td>42</td>\n",
       "      <td>0</td>\n",
       "      <td>0</td>\n",
       "      <td>0</td>\n",
       "      <td>953</td>\n",
       "      <td>1020</td>\n",
       "      <td>954</td>\n",
       "      <td>1033</td>\n",
       "      <td>...</td>\n",
       "      <td>2809</td>\n",
       "      <td>425</td>\n",
       "      <td>74</td>\n",
       "      <td>2414</td>\n",
       "      <td>55</td>\n",
       "      <td>5835</td>\n",
       "      <td>1415</td>\n",
       "      <td>1285</td>\n",
       "      <td>1687</td>\n",
       "      <td>1448</td>\n",
       "    </tr>\n",
       "    <tr>\n",
       "      <th>6</th>\n",
       "      <td>南葛西</td>\n",
       "      <td>1</td>\n",
       "      <td>113</td>\n",
       "      <td>0</td>\n",
       "      <td>0</td>\n",
       "      <td>0</td>\n",
       "      <td>1868</td>\n",
       "      <td>1723</td>\n",
       "      <td>1824</td>\n",
       "      <td>1947</td>\n",
       "      <td>...</td>\n",
       "      <td>6351</td>\n",
       "      <td>617</td>\n",
       "      <td>142</td>\n",
       "      <td>1696</td>\n",
       "      <td>94</td>\n",
       "      <td>12460</td>\n",
       "      <td>1279</td>\n",
       "      <td>2875</td>\n",
       "      <td>4732</td>\n",
       "      <td>3574</td>\n",
       "    </tr>\n",
       "    <tr>\n",
       "      <th>7</th>\n",
       "      <td>東葛西</td>\n",
       "      <td>1</td>\n",
       "      <td>170</td>\n",
       "      <td>0</td>\n",
       "      <td>0</td>\n",
       "      <td>0</td>\n",
       "      <td>1954</td>\n",
       "      <td>1706</td>\n",
       "      <td>1804</td>\n",
       "      <td>2308</td>\n",
       "      <td>...</td>\n",
       "      <td>13411</td>\n",
       "      <td>1205</td>\n",
       "      <td>309</td>\n",
       "      <td>3908</td>\n",
       "      <td>119</td>\n",
       "      <td>17809</td>\n",
       "      <td>4679</td>\n",
       "      <td>5838</td>\n",
       "      <td>5176</td>\n",
       "      <td>2116</td>\n",
       "    </tr>\n",
       "    <tr>\n",
       "      <th>8</th>\n",
       "      <td>新堀</td>\n",
       "      <td>0</td>\n",
       "      <td>9</td>\n",
       "      <td>0</td>\n",
       "      <td>0</td>\n",
       "      <td>0</td>\n",
       "      <td>218</td>\n",
       "      <td>313</td>\n",
       "      <td>297</td>\n",
       "      <td>269</td>\n",
       "      <td>...</td>\n",
       "      <td>647</td>\n",
       "      <td>12</td>\n",
       "      <td>16</td>\n",
       "      <td>737</td>\n",
       "      <td>8</td>\n",
       "      <td>989</td>\n",
       "      <td>321</td>\n",
       "      <td>327</td>\n",
       "      <td>264</td>\n",
       "      <td>77</td>\n",
       "    </tr>\n",
       "    <tr>\n",
       "      <th>9</th>\n",
       "      <td>清新町</td>\n",
       "      <td>0</td>\n",
       "      <td>43</td>\n",
       "      <td>0</td>\n",
       "      <td>0</td>\n",
       "      <td>0</td>\n",
       "      <td>519</td>\n",
       "      <td>697</td>\n",
       "      <td>643</td>\n",
       "      <td>710</td>\n",
       "      <td>...</td>\n",
       "      <td>303</td>\n",
       "      <td>90</td>\n",
       "      <td>28</td>\n",
       "      <td>38</td>\n",
       "      <td>21</td>\n",
       "      <td>5472</td>\n",
       "      <td>1</td>\n",
       "      <td>830</td>\n",
       "      <td>820</td>\n",
       "      <td>3821</td>\n",
       "    </tr>\n",
       "  </tbody>\n",
       "</table>\n",
       "<p>10 rows × 72 columns</p>\n",
       "</div>"
      ],
      "text/plain": [
       "      地区  クラスタ  自転車盗数  大学・短大（NAVITIME）  駅（NAVITIME）  工場  0～4歳  5～9歳  10～14歳  \\\n",
       "0   東小松川     0     32                0            0   0   517   498     491   \n",
       "1  西小松川町     0      3                0            0   0   102   116     152   \n",
       "2    小松川     0     40                0            0   0   707   869     907   \n",
       "3    西葛西     1    172                0            1   0  1997  1909    1858   \n",
       "4    中葛西     1    137                0            1   0  1771  1532    1405   \n",
       "5    北葛西     0     42                0            0   0   953  1020     954   \n",
       "6    南葛西     1    113                0            0   0  1868  1723    1824   \n",
       "7    東葛西     1    170                0            0   0  1954  1706    1804   \n",
       "8     新堀     0      9                0            0   0   218   313     297   \n",
       "9    清新町     0     43                0            0   0   519   697     643   \n",
       "\n",
       "   15～19歳   ...    民営の借家世帯数  給与住宅世帯数  間借り世帯数  一戸建世帯数  長屋建世帯数  共同住宅世帯数  １・２階建  \\\n",
       "0     555   ...        1959      120      57    2241      44     2617    720   \n",
       "1     199   ...         370       23      22     727      14      552    194   \n",
       "2     947   ...         485      118      45     328      25     6175     90   \n",
       "3    2246   ...        9150      773     239    1411      35    18833   1223   \n",
       "4    1870   ...       12701     1125     259    2609      93    17752   3243   \n",
       "5    1033   ...        2809      425      74    2414      55     5835   1415   \n",
       "6    1947   ...        6351      617     142    1696      94    12460   1279   \n",
       "7    2308   ...       13411     1205     309    3908     119    17809   4679   \n",
       "8     269   ...         647       12      16     737       8      989    321   \n",
       "9     710   ...         303       90      28      38      21     5472      1   \n",
       "\n",
       "   ３～５階建  ６～10階建  11階建以上  \n",
       "0   1246     443     208  \n",
       "1    190      70      98  \n",
       "2    449     407    5229  \n",
       "3   3803    6832    6975  \n",
       "4   6430    5294    2785  \n",
       "5   1285    1687    1448  \n",
       "6   2875    4732    3574  \n",
       "7   5838    5176    2116  \n",
       "8    327     264      77  \n",
       "9    830     820    3821  \n",
       "\n",
       "[10 rows x 72 columns]"
      ]
     },
     "execution_count": 3,
     "metadata": {},
     "output_type": "execute_result"
    }
   ],
   "source": [
    "edo[0:10]"
   ]
  },
  {
   "cell_type": "code",
   "execution_count": 4,
   "metadata": {},
   "outputs": [],
   "source": [
    "edo_ = edo.drop(edo.columns[[0, 2]], axis=1)"
   ]
  },
  {
   "cell_type": "code",
   "execution_count": 5,
   "metadata": {},
   "outputs": [
    {
     "data": {
      "text/html": [
       "<div>\n",
       "<style scoped>\n",
       "    .dataframe tbody tr th:only-of-type {\n",
       "        vertical-align: middle;\n",
       "    }\n",
       "\n",
       "    .dataframe tbody tr th {\n",
       "        vertical-align: top;\n",
       "    }\n",
       "\n",
       "    .dataframe thead th {\n",
       "        text-align: right;\n",
       "    }\n",
       "</style>\n",
       "<table border=\"1\" class=\"dataframe\">\n",
       "  <thead>\n",
       "    <tr style=\"text-align: right;\">\n",
       "      <th></th>\n",
       "      <th>クラスタ</th>\n",
       "      <th>大学・短大（NAVITIME）</th>\n",
       "      <th>駅（NAVITIME）</th>\n",
       "      <th>工場</th>\n",
       "      <th>0～4歳</th>\n",
       "      <th>5～9歳</th>\n",
       "      <th>10～14歳</th>\n",
       "      <th>15～19歳</th>\n",
       "      <th>20～24歳</th>\n",
       "      <th>25～29歳</th>\n",
       "      <th>...</th>\n",
       "      <th>民営の借家世帯数</th>\n",
       "      <th>給与住宅世帯数</th>\n",
       "      <th>間借り世帯数</th>\n",
       "      <th>一戸建世帯数</th>\n",
       "      <th>長屋建世帯数</th>\n",
       "      <th>共同住宅世帯数</th>\n",
       "      <th>１・２階建</th>\n",
       "      <th>３～５階建</th>\n",
       "      <th>６～10階建</th>\n",
       "      <th>11階建以上</th>\n",
       "    </tr>\n",
       "  </thead>\n",
       "  <tbody>\n",
       "    <tr>\n",
       "      <th>0</th>\n",
       "      <td>0</td>\n",
       "      <td>0</td>\n",
       "      <td>0</td>\n",
       "      <td>0</td>\n",
       "      <td>517</td>\n",
       "      <td>498</td>\n",
       "      <td>491</td>\n",
       "      <td>555</td>\n",
       "      <td>613</td>\n",
       "      <td>711</td>\n",
       "      <td>...</td>\n",
       "      <td>1959</td>\n",
       "      <td>120</td>\n",
       "      <td>57</td>\n",
       "      <td>2241</td>\n",
       "      <td>44</td>\n",
       "      <td>2617</td>\n",
       "      <td>720</td>\n",
       "      <td>1246</td>\n",
       "      <td>443</td>\n",
       "      <td>208</td>\n",
       "    </tr>\n",
       "    <tr>\n",
       "      <th>1</th>\n",
       "      <td>0</td>\n",
       "      <td>0</td>\n",
       "      <td>0</td>\n",
       "      <td>0</td>\n",
       "      <td>102</td>\n",
       "      <td>116</td>\n",
       "      <td>152</td>\n",
       "      <td>199</td>\n",
       "      <td>182</td>\n",
       "      <td>172</td>\n",
       "      <td>...</td>\n",
       "      <td>370</td>\n",
       "      <td>23</td>\n",
       "      <td>22</td>\n",
       "      <td>727</td>\n",
       "      <td>14</td>\n",
       "      <td>552</td>\n",
       "      <td>194</td>\n",
       "      <td>190</td>\n",
       "      <td>70</td>\n",
       "      <td>98</td>\n",
       "    </tr>\n",
       "    <tr>\n",
       "      <th>2</th>\n",
       "      <td>0</td>\n",
       "      <td>0</td>\n",
       "      <td>0</td>\n",
       "      <td>0</td>\n",
       "      <td>707</td>\n",
       "      <td>869</td>\n",
       "      <td>907</td>\n",
       "      <td>947</td>\n",
       "      <td>785</td>\n",
       "      <td>675</td>\n",
       "      <td>...</td>\n",
       "      <td>485</td>\n",
       "      <td>118</td>\n",
       "      <td>45</td>\n",
       "      <td>328</td>\n",
       "      <td>25</td>\n",
       "      <td>6175</td>\n",
       "      <td>90</td>\n",
       "      <td>449</td>\n",
       "      <td>407</td>\n",
       "      <td>5229</td>\n",
       "    </tr>\n",
       "    <tr>\n",
       "      <th>3</th>\n",
       "      <td>1</td>\n",
       "      <td>0</td>\n",
       "      <td>1</td>\n",
       "      <td>0</td>\n",
       "      <td>1997</td>\n",
       "      <td>1909</td>\n",
       "      <td>1858</td>\n",
       "      <td>2246</td>\n",
       "      <td>2825</td>\n",
       "      <td>3091</td>\n",
       "      <td>...</td>\n",
       "      <td>9150</td>\n",
       "      <td>773</td>\n",
       "      <td>239</td>\n",
       "      <td>1411</td>\n",
       "      <td>35</td>\n",
       "      <td>18833</td>\n",
       "      <td>1223</td>\n",
       "      <td>3803</td>\n",
       "      <td>6832</td>\n",
       "      <td>6975</td>\n",
       "    </tr>\n",
       "    <tr>\n",
       "      <th>4</th>\n",
       "      <td>1</td>\n",
       "      <td>0</td>\n",
       "      <td>1</td>\n",
       "      <td>0</td>\n",
       "      <td>1771</td>\n",
       "      <td>1532</td>\n",
       "      <td>1405</td>\n",
       "      <td>1870</td>\n",
       "      <td>3106</td>\n",
       "      <td>3519</td>\n",
       "      <td>...</td>\n",
       "      <td>12701</td>\n",
       "      <td>1125</td>\n",
       "      <td>259</td>\n",
       "      <td>2609</td>\n",
       "      <td>93</td>\n",
       "      <td>17752</td>\n",
       "      <td>3243</td>\n",
       "      <td>6430</td>\n",
       "      <td>5294</td>\n",
       "      <td>2785</td>\n",
       "    </tr>\n",
       "    <tr>\n",
       "      <th>5</th>\n",
       "      <td>0</td>\n",
       "      <td>0</td>\n",
       "      <td>0</td>\n",
       "      <td>0</td>\n",
       "      <td>953</td>\n",
       "      <td>1020</td>\n",
       "      <td>954</td>\n",
       "      <td>1033</td>\n",
       "      <td>951</td>\n",
       "      <td>1036</td>\n",
       "      <td>...</td>\n",
       "      <td>2809</td>\n",
       "      <td>425</td>\n",
       "      <td>74</td>\n",
       "      <td>2414</td>\n",
       "      <td>55</td>\n",
       "      <td>5835</td>\n",
       "      <td>1415</td>\n",
       "      <td>1285</td>\n",
       "      <td>1687</td>\n",
       "      <td>1448</td>\n",
       "    </tr>\n",
       "    <tr>\n",
       "      <th>6</th>\n",
       "      <td>1</td>\n",
       "      <td>0</td>\n",
       "      <td>0</td>\n",
       "      <td>0</td>\n",
       "      <td>1868</td>\n",
       "      <td>1723</td>\n",
       "      <td>1824</td>\n",
       "      <td>1947</td>\n",
       "      <td>2198</td>\n",
       "      <td>2230</td>\n",
       "      <td>...</td>\n",
       "      <td>6351</td>\n",
       "      <td>617</td>\n",
       "      <td>142</td>\n",
       "      <td>1696</td>\n",
       "      <td>94</td>\n",
       "      <td>12460</td>\n",
       "      <td>1279</td>\n",
       "      <td>2875</td>\n",
       "      <td>4732</td>\n",
       "      <td>3574</td>\n",
       "    </tr>\n",
       "    <tr>\n",
       "      <th>7</th>\n",
       "      <td>1</td>\n",
       "      <td>0</td>\n",
       "      <td>0</td>\n",
       "      <td>0</td>\n",
       "      <td>1954</td>\n",
       "      <td>1706</td>\n",
       "      <td>1804</td>\n",
       "      <td>2308</td>\n",
       "      <td>3376</td>\n",
       "      <td>3917</td>\n",
       "      <td>...</td>\n",
       "      <td>13411</td>\n",
       "      <td>1205</td>\n",
       "      <td>309</td>\n",
       "      <td>3908</td>\n",
       "      <td>119</td>\n",
       "      <td>17809</td>\n",
       "      <td>4679</td>\n",
       "      <td>5838</td>\n",
       "      <td>5176</td>\n",
       "      <td>2116</td>\n",
       "    </tr>\n",
       "    <tr>\n",
       "      <th>8</th>\n",
       "      <td>0</td>\n",
       "      <td>0</td>\n",
       "      <td>0</td>\n",
       "      <td>0</td>\n",
       "      <td>218</td>\n",
       "      <td>313</td>\n",
       "      <td>297</td>\n",
       "      <td>269</td>\n",
       "      <td>253</td>\n",
       "      <td>209</td>\n",
       "      <td>...</td>\n",
       "      <td>647</td>\n",
       "      <td>12</td>\n",
       "      <td>16</td>\n",
       "      <td>737</td>\n",
       "      <td>8</td>\n",
       "      <td>989</td>\n",
       "      <td>321</td>\n",
       "      <td>327</td>\n",
       "      <td>264</td>\n",
       "      <td>77</td>\n",
       "    </tr>\n",
       "    <tr>\n",
       "      <th>9</th>\n",
       "      <td>0</td>\n",
       "      <td>0</td>\n",
       "      <td>0</td>\n",
       "      <td>0</td>\n",
       "      <td>519</td>\n",
       "      <td>697</td>\n",
       "      <td>643</td>\n",
       "      <td>710</td>\n",
       "      <td>635</td>\n",
       "      <td>687</td>\n",
       "      <td>...</td>\n",
       "      <td>303</td>\n",
       "      <td>90</td>\n",
       "      <td>28</td>\n",
       "      <td>38</td>\n",
       "      <td>21</td>\n",
       "      <td>5472</td>\n",
       "      <td>1</td>\n",
       "      <td>830</td>\n",
       "      <td>820</td>\n",
       "      <td>3821</td>\n",
       "    </tr>\n",
       "  </tbody>\n",
       "</table>\n",
       "<p>10 rows × 70 columns</p>\n",
       "</div>"
      ],
      "text/plain": [
       "   クラスタ  大学・短大（NAVITIME）  駅（NAVITIME）  工場  0～4歳  5～9歳  10～14歳  15～19歳  20～24歳  \\\n",
       "0     0                0            0   0   517   498     491     555     613   \n",
       "1     0                0            0   0   102   116     152     199     182   \n",
       "2     0                0            0   0   707   869     907     947     785   \n",
       "3     1                0            1   0  1997  1909    1858    2246    2825   \n",
       "4     1                0            1   0  1771  1532    1405    1870    3106   \n",
       "5     0                0            0   0   953  1020     954    1033     951   \n",
       "6     1                0            0   0  1868  1723    1824    1947    2198   \n",
       "7     1                0            0   0  1954  1706    1804    2308    3376   \n",
       "8     0                0            0   0   218   313     297     269     253   \n",
       "9     0                0            0   0   519   697     643     710     635   \n",
       "\n",
       "   25～29歳   ...    民営の借家世帯数  給与住宅世帯数  間借り世帯数  一戸建世帯数  長屋建世帯数  共同住宅世帯数  １・２階建  \\\n",
       "0     711   ...        1959      120      57    2241      44     2617    720   \n",
       "1     172   ...         370       23      22     727      14      552    194   \n",
       "2     675   ...         485      118      45     328      25     6175     90   \n",
       "3    3091   ...        9150      773     239    1411      35    18833   1223   \n",
       "4    3519   ...       12701     1125     259    2609      93    17752   3243   \n",
       "5    1036   ...        2809      425      74    2414      55     5835   1415   \n",
       "6    2230   ...        6351      617     142    1696      94    12460   1279   \n",
       "7    3917   ...       13411     1205     309    3908     119    17809   4679   \n",
       "8     209   ...         647       12      16     737       8      989    321   \n",
       "9     687   ...         303       90      28      38      21     5472      1   \n",
       "\n",
       "   ３～５階建  ６～10階建  11階建以上  \n",
       "0   1246     443     208  \n",
       "1    190      70      98  \n",
       "2    449     407    5229  \n",
       "3   3803    6832    6975  \n",
       "4   6430    5294    2785  \n",
       "5   1285    1687    1448  \n",
       "6   2875    4732    3574  \n",
       "7   5838    5176    2116  \n",
       "8    327     264      77  \n",
       "9    830     820    3821  \n",
       "\n",
       "[10 rows x 70 columns]"
      ]
     },
     "execution_count": 5,
     "metadata": {},
     "output_type": "execute_result"
    }
   ],
   "source": [
    "edo_[0:10]"
   ]
  },
  {
   "cell_type": "markdown",
   "metadata": {},
   "source": [
    "#大学・駅・工場で分析"
   ]
  },
  {
   "cell_type": "code",
   "execution_count": 6,
   "metadata": {},
   "outputs": [
    {
     "name": "stderr",
     "output_type": "stream",
     "text": [
      "C:\\Users\\kishi\\Anaconda3\\envs\\edogawa\\lib\\site-packages\\sklearn\\linear_model\\logistic.py:432: FutureWarning: Default solver will be changed to 'lbfgs' in 0.22. Specify a solver to silence this warning.\n",
      "  FutureWarning)\n"
     ]
    }
   ],
   "source": [
    "edo_np = edo_.values\n",
    "edo_x = edo_np[:,1:4]\n",
    "edo_y = edo_np[:,0]\n",
    "sc = StandardScaler()\n",
    "edo_std = sc.fit_transform(edo_x)\n",
    "clf = LogisticRegression()\n",
    "edo_clf = clf.fit(edo_std, edo_y)"
   ]
  },
  {
   "cell_type": "code",
   "execution_count": 7,
   "metadata": {},
   "outputs": [
    {
     "data": {
      "text/plain": [
       "array([-1.13078025])"
      ]
     },
     "execution_count": 7,
     "metadata": {},
     "output_type": "execute_result"
    }
   ],
   "source": [
    "edo_clf.intercept_"
   ]
  },
  {
   "cell_type": "code",
   "execution_count": 8,
   "metadata": {},
   "outputs": [
    {
     "data": {
      "text/plain": [
       "array([[0.76655651, 1.12794224, 0.        ]])"
      ]
     },
     "execution_count": 8,
     "metadata": {},
     "output_type": "execute_result"
    }
   ],
   "source": [
    "edo_clf.coef_"
   ]
  },
  {
   "cell_type": "code",
   "execution_count": 9,
   "metadata": {},
   "outputs": [],
   "source": [
    "#年代別に分析"
   ]
  },
  {
   "cell_type": "code",
   "execution_count": 10,
   "metadata": {},
   "outputs": [
    {
     "name": "stderr",
     "output_type": "stream",
     "text": [
      "C:\\Users\\kishi\\Anaconda3\\envs\\edogawa\\lib\\site-packages\\sklearn\\linear_model\\logistic.py:432: FutureWarning: Default solver will be changed to 'lbfgs' in 0.22. Specify a solver to silence this warning.\n",
      "  FutureWarning)\n"
     ]
    }
   ],
   "source": [
    "edo_x = edo_np[:,4:21]\n",
    "sc = StandardScaler()\n",
    "edo_std = sc.fit_transform(edo_x)\n",
    "clf = LogisticRegression()\n",
    "edo_clf = clf.fit(edo_std, edo_y)"
   ]
  },
  {
   "cell_type": "code",
   "execution_count": 11,
   "metadata": {},
   "outputs": [
    {
     "data": {
      "text/plain": [
       "array([-1.21977323])"
      ]
     },
     "execution_count": 11,
     "metadata": {},
     "output_type": "execute_result"
    }
   ],
   "source": [
    "edo_clf.intercept_"
   ]
  },
  {
   "cell_type": "code",
   "execution_count": 12,
   "metadata": {},
   "outputs": [
    {
     "data": {
      "text/plain": [
       "array([[ 0.2026085 , -0.26801757, -0.44080257, -0.18207443,  0.59112759,\n",
       "         0.96520305,  0.75903849,  0.71272081,  0.42647205,  0.39036116,\n",
       "         0.20823562,  0.03387837, -0.20316843, -0.16867732,  0.01639694,\n",
       "        -0.12994534, -0.49303613]])"
      ]
     },
     "execution_count": 12,
     "metadata": {},
     "output_type": "execute_result"
    }
   ],
   "source": [
    "edo_clf.coef_"
   ]
  },
  {
   "cell_type": "markdown",
   "metadata": {},
   "source": [
    "#世帯人数やその構成"
   ]
  },
  {
   "cell_type": "code",
   "execution_count": 13,
   "metadata": {},
   "outputs": [
    {
     "name": "stderr",
     "output_type": "stream",
     "text": [
      "C:\\Users\\kishi\\Anaconda3\\envs\\edogawa\\lib\\site-packages\\sklearn\\linear_model\\logistic.py:432: FutureWarning: Default solver will be changed to 'lbfgs' in 0.22. Specify a solver to silence this warning.\n",
      "  FutureWarning)\n"
     ]
    }
   ],
   "source": [
    "edo_x = edo_np[:,22:34]\n",
    "sc = StandardScaler()\n",
    "edo_std = sc.fit_transform(edo_x)\n",
    "clf = LogisticRegression()\n",
    "edo_clf = clf.fit(edo_std, edo_y)"
   ]
  },
  {
   "cell_type": "code",
   "execution_count": 14,
   "metadata": {},
   "outputs": [
    {
     "data": {
      "text/plain": [
       "array([-1.09458819])"
      ]
     },
     "execution_count": 14,
     "metadata": {},
     "output_type": "execute_result"
    }
   ],
   "source": [
    "edo_clf.intercept_"
   ]
  },
  {
   "cell_type": "code",
   "execution_count": 15,
   "metadata": {},
   "outputs": [
    {
     "data": {
      "text/plain": [
       "array([[ 1.03347898,  0.45646479,  0.1735211 ,  0.18195321, -0.07208963,\n",
       "        -0.23802164, -0.03391384,  0.03825293,  0.62645409,  0.2856503 ,\n",
       "         1.03347898, -0.43564625]])"
      ]
     },
     "execution_count": 15,
     "metadata": {},
     "output_type": "execute_result"
    }
   ],
   "source": [
    "edo_clf.coef_"
   ]
  },
  {
   "cell_type": "markdown",
   "metadata": {},
   "source": [
    "#業種別"
   ]
  },
  {
   "cell_type": "code",
   "execution_count": 16,
   "metadata": {},
   "outputs": [
    {
     "name": "stderr",
     "output_type": "stream",
     "text": [
      "C:\\Users\\kishi\\Anaconda3\\envs\\edogawa\\lib\\site-packages\\sklearn\\linear_model\\logistic.py:432: FutureWarning: Default solver will be changed to 'lbfgs' in 0.22. Specify a solver to silence this warning.\n",
      "  FutureWarning)\n"
     ]
    }
   ],
   "source": [
    "edo_x = edo_np[:,35:58]\n",
    "sc = StandardScaler()\n",
    "edo_std = sc.fit_transform(edo_x)\n",
    "clf = LogisticRegression()\n",
    "edo_clf = clf.fit(edo_std, edo_y)"
   ]
  },
  {
   "cell_type": "code",
   "execution_count": 17,
   "metadata": {},
   "outputs": [
    {
     "data": {
      "text/plain": [
       "array([-1.25809215])"
      ]
     },
     "execution_count": 17,
     "metadata": {},
     "output_type": "execute_result"
    }
   ],
   "source": [
    "edo_clf.intercept_"
   ]
  },
  {
   "cell_type": "code",
   "execution_count": 18,
   "metadata": {},
   "outputs": [
    {
     "data": {
      "text/plain": [
       "array([[-0.17375126, -0.21636327,  0.19186725,  0.02136971,  0.14944503,\n",
       "        -0.47859427,  0.94790225,  0.01470429,  0.23974907,  0.46532011,\n",
       "         0.75320392,  0.41467089, -0.06462415,  0.30045361, -0.31173266,\n",
       "        -0.12279474, -0.01030614,  0.23701919, -0.14417615,  0.82603422,\n",
       "        -0.37820573, -0.14081417, -0.00518269]])"
      ]
     },
     "execution_count": 18,
     "metadata": {},
     "output_type": "execute_result"
    }
   ],
   "source": [
    "edo_clf.coef_"
   ]
  },
  {
   "cell_type": "markdown",
   "metadata": {},
   "source": [
    "#住居のタイプ"
   ]
  },
  {
   "cell_type": "code",
   "execution_count": 19,
   "metadata": {},
   "outputs": [
    {
     "name": "stderr",
     "output_type": "stream",
     "text": [
      "C:\\Users\\kishi\\Anaconda3\\envs\\edogawa\\lib\\site-packages\\sklearn\\linear_model\\logistic.py:432: FutureWarning: Default solver will be changed to 'lbfgs' in 0.22. Specify a solver to silence this warning.\n",
      "  FutureWarning)\n"
     ]
    }
   ],
   "source": [
    "edo_x = edo_np[:,58:66]\n",
    "sc = StandardScaler()\n",
    "edo_std = sc.fit_transform(edo_x)\n",
    "clf = LogisticRegression()\n",
    "edo_clf = clf.fit(edo_std, edo_y)"
   ]
  },
  {
   "cell_type": "code",
   "execution_count": 20,
   "metadata": {},
   "outputs": [
    {
     "data": {
      "text/plain": [
       "array([-1.06086377])"
      ]
     },
     "execution_count": 20,
     "metadata": {},
     "output_type": "execute_result"
    }
   ],
   "source": [
    "edo_clf.intercept_"
   ]
  },
  {
   "cell_type": "code",
   "execution_count": 21,
   "metadata": {},
   "outputs": [
    {
     "data": {
      "text/plain": [
       "array([[ 0.20175303, -0.21772962,  1.36525678,  0.5459503 ,  0.20286189,\n",
       "        -0.45450783,  0.08876926,  1.11855994]])"
      ]
     },
     "execution_count": 21,
     "metadata": {},
     "output_type": "execute_result"
    }
   ],
   "source": [
    "edo_clf.coef_"
   ]
  },
  {
   "cell_type": "markdown",
   "metadata": {},
   "source": [
    "#住居の階数"
   ]
  },
  {
   "cell_type": "code",
   "execution_count": 22,
   "metadata": {},
   "outputs": [
    {
     "name": "stderr",
     "output_type": "stream",
     "text": [
      "C:\\Users\\kishi\\Anaconda3\\envs\\edogawa\\lib\\site-packages\\sklearn\\linear_model\\logistic.py:432: FutureWarning: Default solver will be changed to 'lbfgs' in 0.22. Specify a solver to silence this warning.\n",
      "  FutureWarning)\n"
     ]
    }
   ],
   "source": [
    "edo_x = edo_np[:,66:70]\n",
    "sc = StandardScaler()\n",
    "edo_std = sc.fit_transform(edo_x)\n",
    "clf = LogisticRegression()\n",
    "edo_clf = clf.fit(edo_std, edo_y)"
   ]
  },
  {
   "cell_type": "code",
   "execution_count": 23,
   "metadata": {},
   "outputs": [
    {
     "data": {
      "text/plain": [
       "array([-1.19518423])"
      ]
     },
     "execution_count": 23,
     "metadata": {},
     "output_type": "execute_result"
    }
   ],
   "source": [
    "edo_clf.intercept_"
   ]
  },
  {
   "cell_type": "code",
   "execution_count": 24,
   "metadata": {},
   "outputs": [
    {
     "data": {
      "text/plain": [
       "array([[0.70855112, 1.0942821 , 0.98090543, 0.35620015]])"
      ]
     },
     "execution_count": 24,
     "metadata": {},
     "output_type": "execute_result"
    }
   ],
   "source": [
    "edo_clf.coef_"
   ]
  },
  {
   "cell_type": "code",
   "execution_count": null,
   "metadata": {},
   "outputs": [],
   "source": []
  }
 ],
 "metadata": {
  "kernelspec": {
   "display_name": "Python 3",
   "language": "python",
   "name": "python3"
  },
  "language_info": {
   "codemirror_mode": {
    "name": "ipython",
    "version": 3
   },
   "file_extension": ".py",
   "mimetype": "text/x-python",
   "name": "python",
   "nbconvert_exporter": "python",
   "pygments_lexer": "ipython3",
   "version": "3.6.7"
  }
 },
 "nbformat": 4,
 "nbformat_minor": 2
}
